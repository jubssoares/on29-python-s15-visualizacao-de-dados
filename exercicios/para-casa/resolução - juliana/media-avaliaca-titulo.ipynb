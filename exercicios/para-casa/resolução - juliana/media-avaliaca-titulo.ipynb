{
 "cells": [
  {
   "cell_type": "code",
   "execution_count": 3,
   "metadata": {},
   "outputs": [
    {
     "name": "stdout",
     "output_type": "stream",
     "text": [
      "bookID                 int64\n",
      "title                 object\n",
      "authors               object\n",
      "average_rating        object\n",
      "isbn                  object\n",
      "isbn13                object\n",
      "language_code         object\n",
      "num_pages             object\n",
      "ratings_count          int64\n",
      "text_reviews_count     int64\n",
      "publication_date      object\n",
      "publisher             object\n",
      "Unnamed: 12           object\n",
      "dtype: object\n"
     ]
    }
   ],
   "source": [
    "import pandas as pd\n",
    "\n",
    "# Carregar o CSV para um DataFrame\n",
    "df = pd.read_csv('books3.csv')\n",
    "\n",
    "# Verificar os tipos das colunas\n",
    "print(df.dtypes)\n"
   ]
  },
  {
   "cell_type": "code",
   "execution_count": 4,
   "metadata": {},
   "outputs": [
    {
     "name": "stdout",
     "output_type": "stream",
     "text": [
      "                                                  title  \\\n",
      "4702                  The Tolkien Fan's Medieval Reader   \n",
      "8979  Brown's Star Atlas: Showing All The Bright Sta...   \n",
      "5877                     Patriots (The Coming Collapse)   \n",
      "3348  Streetcar Suburbs: The Process of Growth in Bo...   \n",
      "5025  The Complete Theory Fun Factory: Music Theory ...   \n",
      "...                                                 ...   \n",
      "1669  A Gravity's Rainbow Companion: Sources and Con...   \n",
      "5678  A Transatlantic Love Affair: Letters to Nelson...   \n",
      "8143                  The Arctic Event (Covert-One  #7)   \n",
      "8628  From Hinton to Hamlet: Building Bridges betwee...   \n",
      "1253                                 The Zanzibar Chest   \n",
      "\n",
      "                                         average_rating  \n",
      "4702   one of the founding members of this Tolkien w...  \n",
      "8979                                    Son & Ferguson   \n",
      "5877                                            Rawles   \n",
      "3348                                 Jr./Sam B. Warner   \n",
      "5025                                              5.00   \n",
      "...                                                 ...  \n",
      "1669                                            45.295   \n",
      "5678                                            45.295   \n",
      "8143                                            45.295   \n",
      "8628                                            45.295   \n",
      "1253                                            45.295   \n",
      "\n",
      "[11127 rows x 2 columns]\n"
     ]
    }
   ],
   "source": [
    "import pandas as pd\n",
    "\n",
    "# Carregar o CSV para um DataFrame\n",
    "df = pd.read_csv('books3.csv')\n",
    "\n",
    "# Ordenar pelo average_rating em ordem decrescente\n",
    "df_sorted = df.sort_values(by='average_rating', ascending=False)\n",
    "\n",
    "# Imprimir title e average_rating em ordem decrescente de average_rating\n",
    "print(df_sorted[['title', 'average_rating']])\n"
   ]
  }
 ],
 "metadata": {
  "kernelspec": {
   "display_name": "Python 3",
   "language": "python",
   "name": "python3"
  },
  "language_info": {
   "codemirror_mode": {
    "name": "ipython",
    "version": 3
   },
   "file_extension": ".py",
   "mimetype": "text/x-python",
   "name": "python",
   "nbconvert_exporter": "python",
   "pygments_lexer": "ipython3",
   "version": "3.12.2"
  }
 },
 "nbformat": 4,
 "nbformat_minor": 2
}
